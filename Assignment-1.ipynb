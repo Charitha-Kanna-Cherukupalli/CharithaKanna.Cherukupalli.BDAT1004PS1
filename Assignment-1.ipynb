{
 "cells": [
  {
   "cell_type": "markdown",
   "metadata": {},
   "source": [
    "Question 1.What data type is each of the following?\n",
    "\n"
   ]
  },
  {
   "cell_type": "markdown",
   "metadata": {},
   "source": [
    "5<br>                  Integer<br>                             \n",
    "5.0<br>                Float<br>\n",
    "5 > 1<br>\t            Boolean<br>\n",
    "'5'<br>\t                String<br>\n",
    "5 * 2<br>\t            Integer<br>\n",
    "'5' * 2<br>\t            String<br>\n",
    "'5' + '2'<br>\t        String<br>\n",
    "5 / 2<br>\t            Float<br>\n",
    "5 // 2<br>\t            Integer<br>\n",
    "[5, 2, 1]<br>\t        List<br>\n",
    "5 in [1, 4, 6]<br>\t    Boolean<br>\n",
    "math.pi<br>\t            Float<br>"
   ]
  },
  {
   "cell_type": "markdown",
   "metadata": {},
   "source": [
    "Question 2.Write (and evaluate) Python expressions that answer these questions:"
   ]
  },
  {
   "cell_type": "code",
   "execution_count": 30,
   "metadata": {},
   "outputs": [
    {
     "name": "stdout",
     "output_type": "stream",
     "text": [
      "The length of  Supercalifragilisticexpialidocious  is  34\n"
     ]
    }
   ],
   "source": [
    "# 2a.How many letters are there in 'Supercalifragilisticexpialidocious'?\n",
    "\n",
    "l3 = ['Supercalifragilisticexpialidocious','Honorificabilitudinitatibus','Bababadalgharaghtakamminarronnkonn']\n",
    "print(\"The length of \",l3[0], \" is \", len(l3[0]))"
   ]
  },
  {
   "cell_type": "code",
   "execution_count": 31,
   "metadata": {},
   "outputs": [
    {
     "data": {
      "text/plain": [
       "True"
      ]
     },
     "execution_count": 31,
     "metadata": {},
     "output_type": "execute_result"
    }
   ],
   "source": [
    "# 2b.Does 'Supercalifragilisticexpialidocious' contain 'ice' as a substring? \n",
    "\n",
    "'ice' in l3[0]"
   ]
  },
  {
   "cell_type": "code",
   "execution_count": 32,
   "metadata": {},
   "outputs": [
    {
     "name": "stdout",
     "output_type": "stream",
     "text": [
      "The longest words are: \n",
      "Supercalifragilisticexpialidocious\n",
      "Bababadalgharaghtakamminarronnkonn\n"
     ]
    }
   ],
   "source": [
    "#2c.Which of the following words is the longest: \n",
    "print(\"The longest words are: \" )\n",
    "l3.sort(key=len)\n",
    "for i in l3:\n",
    "    if(len(i) == len(l3[-1])):\n",
    "        print(i)"
   ]
  },
  {
   "cell_type": "code",
   "execution_count": 33,
   "metadata": {},
   "outputs": [
    {
     "name": "stdout",
     "output_type": "stream",
     "text": [
      "Bartok  comes first\n",
      "Buxtehude  comes last\n"
     ]
    }
   ],
   "source": [
    "#2d.Which composer comes first in the dictionary.Which one comes last?\n",
    "l4=['Berlioz', 'Borodin', 'Brian', 'Bartok', 'Bellini', 'Buxtehude', 'Bernstein']\n",
    "l4.sort()\n",
    "print(l4[0],\" comes first\" )\n",
    "print(l4[-1], \" comes last\")\n"
   ]
  },
  {
   "cell_type": "markdown",
   "metadata": {},
   "source": [
    "Question 3.Write a function inside(x,y,x1,y1,x2,y2) that returns True or False\n",
    "\n"
   ]
  },
  {
   "cell_type": "code",
   "execution_count": 18,
   "metadata": {},
   "outputs": [
    {
     "name": "stdout",
     "output_type": "stream",
     "text": [
      "True\n",
      "False\n"
     ]
    }
   ],
   "source": [
    "#3a Depending on whether the point (x,y) lies in the rectangle with lower left corner (x1,y1) and upper right corner (x2,y2).\n",
    "def inside(x, y, x1, y1, x2, y2):\n",
    "    if( x2 >= x or x1 <=x ) and (y2>= y and y1<=y):\n",
    "        print(True)\n",
    "    else:\n",
    "        print(False)\n",
    "inside(1,1,0,0,2,3)\n",
    "\n",
    "inside(-1,-1,0,0,2,3)"
   ]
  },
  {
   "cell_type": "code",
   "execution_count": 19,
   "metadata": {},
   "outputs": [
    {
     "name": "stdout",
     "output_type": "stream",
     "text": [
      "False\n"
     ]
    }
   ],
   "source": [
    "#3b.Use function inside() from part a.to write an expression that tests whether the point (1,1) lies in both of the following rectangles:\n",
    " \n",
    "x = inside(1,1,0.3,0.5,1.1,0.7) and inside(1,1,0.5, 0.2, 1.1, 2)\n",
    "x"
   ]
  },
  {
   "cell_type": "markdown",
   "metadata": {},
   "source": [
    "Question 4.Write a function pig() that takes a word (i.e., a string) as input and returns its pig-Latin form. Your function should still work if the input word contains upper case characters. Your output should always be lower case however."
   ]
  },
  {
   "cell_type": "code",
   "execution_count": 34,
   "metadata": {},
   "outputs": [
    {
     "name": "stdout",
     "output_type": "stream",
     "text": [
      "appyhay\n",
      "encilpay\n",
      "enterway\n",
      "otherway\n"
     ]
    }
   ],
   "source": [
    "def pig(word):\n",
    "    if word[0].lower() in ['a', 'e', 'i', 'o', 'u']:\n",
    "        new_word = word.lower() + 'way'\n",
    "        print(new_word)\n",
    "    else:\n",
    "        new_word = word[1::].lower() + word[0].lower() + 'ay'\n",
    "        print(new_word)\n",
    "pig('happy')\n",
    "pig('pencil')\n",
    "pig('Enter')\n",
    "pig('OTHER')"
   ]
  },
  {
   "cell_type": "markdown",
   "metadata": {},
   "source": [
    "Question 5.File bloodtype1.txt records blood-types of patients (A, B, AB, O or OO) at a clinic. Write a function bldcount() that reads the file with name name and reports (i.e., prints) how many patients there are in each bloodtype."
   ]
  },
  {
   "cell_type": "code",
   "execution_count": 35,
   "metadata": {},
   "outputs": [
    {
     "name": "stdout",
     "output_type": "stream",
     "text": [
      "There are 15 patients of blood type A\n",
      "There is one patient of blood type B\n",
      "There are 13 patients of blood type AB\n",
      "There are 15 patients of blood type O\n",
      "There are no patients of blood type OO\n"
     ]
    }
   ],
   "source": [
    "def bldcount(file):\n",
    "    groups = []\n",
    "    with open(file,'r') as f:\n",
    "        for i in f.readlines():\n",
    "            for j in (i.split(' ')):\n",
    "                groups.append(j)\n",
    "    types = ['A','B','AB','O','OO']\n",
    "    for type in types:\n",
    "        if(groups.count(type) == 1):\n",
    "            print(\"There is one patient of blood type\",type)\n",
    "        elif(groups.count(type) == 0):\n",
    "            print(\"There are no patients of blood type\",type)\n",
    "        else:\n",
    "            print(\"There are\", groups.count(type),\"patients of blood type\", type)\n",
    "bldcount(\"bloodtype1.txt\")"
   ]
  },
  {
   "cell_type": "markdown",
   "metadata": {},
   "source": [
    "Question 6.Write a function curconv() that takes as input:\n",
    "       1. a currency represented using a string (e.g., 'JPY' for the Japanese Yen or 'EUR' for the Euro)\n",
    "       2. an amount\n",
    "and then converts and returns the amount in US dollars."
   ]
  },
  {
   "cell_type": "code",
   "execution_count": 36,
   "metadata": {},
   "outputs": [
    {
     "name": "stdout",
     "output_type": "stream",
     "text": [
      "122.96544\n",
      "1.241401\n"
     ]
    }
   ],
   "source": [
    "def curconv(currency, amount):\n",
    "    with open('currencies.txt','r') as f:\n",
    "        for i in f.readlines():\n",
    "            for j in i.split():\n",
    "                if( j == currency):\n",
    "                    print(amount * float(i.split()[1]))\n",
    "curconv('EUR', 100)\n",
    "curconv('JPY', 100)"
   ]
  },
  {
   "cell_type": "markdown",
   "metadata": {},
   "source": [
    "Question 7.Each of the following will cause an exception (an error). Identify what type of exception each will cause."
   ]
  },
  {
   "cell_type": "markdown",
   "metadata": {},
   "source": [
    "Trying to add incompatible variables, as in adding 6 + ‘a’<br>\n",
    "Type Error \n",
    "\n",
    "Referring to the 12th item of a list that has only 10 items<br>\n",
    "Index Error\n",
    "\n",
    "Using a value that is out of range for a function’s input, such as calling math.sqrt(-1.0)<br> \n",
    "Value Error\n",
    "\n",
    "Using an undeclared variable, such as print(x) when x has not been defined<br> \n",
    "Name Error\n",
    "\n",
    "Trying to open a file that does not exist, such as mistyping the file name or looking in the wrong directory.<br> \n",
    "File Not Found Error"
   ]
  },
  {
   "cell_type": "markdown",
   "metadata": {},
   "source": [
    "Question 8.Encryption is the process of hiding the meaning of a text by substituting letters in the message with other letters, according to some system. If the process is successful, no one but the intended recipient can understand the encrypted message. Cryptanalysis refers to attempts to undo the encryption, even if some details of the encryption are unknown (for example, if an encrypted message has been intercepted). The first step of cryptanalysis is often to build up a table of letter frequencies in the encrypted text. Assume that the string letters is already defined as 'abcdefghijklmnopqrstuvwxyz'. Write a function called frequencies() that takes a string as its only parameter, and returns a list of integers, showing the number of times each character appears in the text. Your function may ignore any characters that are not in letters."
   ]
  },
  {
   "cell_type": "code",
   "execution_count": 27,
   "metadata": {},
   "outputs": [
    {
     "name": "stdout",
     "output_type": "stream",
     "text": [
      "[1, 1, 1, 3, 5, 1, 1, 2, 1, 0, 1, 0, 1, 2, 4, 0, 1, 2, 0, 2, 1, 0, 1, 1, 0, 0]\n",
      "[1, 0, 0, 0, 1, 0, 0, 0, 0, 0, 0, 1, 0, 0, 0, 2, 0, 0, 0, 0, 0, 0, 0, 0, 0, 0]\n"
     ]
    }
   ],
   "source": [
    "def frequencies(text):\n",
    "    s = 'abcdefghijklmnopqrstuvwxyz'\n",
    "    tempList = []\n",
    "    for i in s:\n",
    "        x = text.count(i)\n",
    "        tempList.append(x)\n",
    "    print(tempList)\n",
    "frequencies('The quick red fox got bored and went home.')\n",
    "frequencies('apple')"
   ]
  },
  {
   "cell_type": "markdown",
   "metadata": {},
   "source": [
    "Question 9: The Sieve of Erastophenes is an algorithm -- known to ancient Greeks -- that finds\n",
    "all prime numbers up to a given number n. It does this by first creating a list L from\n",
    "2 to n and an (initially empty) list primeL. The algorithm then takes the first number\n",
    "in list L (2) and appends it to list primeL, and then removes 2 and all its multiples\n",
    "(4,6,8,10,12, ...) from L. The algorithm then takes the new first number in L (3) and\n",
    "appends it to list primeL, and then removes from L 3 and all its remaining multiples\n",
    "(9,15,21,...). So, in every iteration, the first number of list L is appended to list\n",
    "primeL and then it and its multiples are removed from list L. The iterations stop\n",
    "when list L becomes empty. Write a function sieve() that takes as input a positive\n",
    "integer n, implements the above algorithm, and returns a list of all prime numbers up\n",
    "to n."
   ]
  },
  {
   "cell_type": "code",
   "execution_count": 28,
   "metadata": {},
   "outputs": [
    {
     "name": "stdout",
     "output_type": "stream",
     "text": [
      "[2, 3, 5, 7, 11, 13, 17, 19, 23, 29, 31, 37, 41, 43, 47, 53]\n",
      "[2, 3, 5, 7, 11, 13, 17, 19, 23, 29, 31, 37, 41, 43, 47, 53, 59, 61, 67, 71, 73, 79, 83, 89, 97, 101, 103, 107, 109, 113, 127, 131, 137, 139, 149, 151, 157, 163, 167, 173, 179, 181, 191, 193, 197, 199, 211, 223, 227, 229, 233, 239, 241, 251, 257, 263, 269, 271, 277, 281, 283, 293, 307, 311, 313, 317, 331, 337, 347, 349, 353, 359, 367]\n",
      "[2, 3, 5, 7, 11, 13, 17, 19, 23, 29, 31]\n"
     ]
    }
   ],
   "source": [
    "def sieve(n):\n",
    "    L = list(range(2,n+1))\n",
    "    primeL = []\n",
    "    for i in L:\n",
    "        primeL.append(i)\n",
    "        for j in L:\n",
    "            if((j != i) and ((j % i) == 0)):\n",
    "                L.remove(j)\n",
    "    print(primeL)\n",
    "sieve(56)\n",
    "sieve(368)\n",
    "sieve(32)"
   ]
  },
  {
   "cell_type": "markdown",
   "metadata": {},
   "source": [
    "Question 10: Implement function triangleArea(a,b,c) that takes as input the lengths of the 3\n",
    "sides of a triangle and returns the area of the triangle. By Heron's formula, the area\n",
    "of a triangle with side lengths a, b, and c is\n",
    "sqrt (s(s - a)(s -b)(s -c))\n",
    ", where\n",
    "s = (a+b+c)/2. "
   ]
  },
  {
   "cell_type": "code",
   "execution_count": 38,
   "metadata": {},
   "outputs": [
    {
     "name": "stdout",
     "output_type": "stream",
     "text": [
      "1.7320508075688772\n"
     ]
    }
   ],
   "source": [
    "from math import sqrt\n",
    "def triangleArea(a,b,c):\n",
    "    s = (a+b+c)/2\n",
    "    x = s*(s-a)*(s-b)*(s-c)\n",
    "    area = sqrt(x)\n",
    "    print(area)\n",
    "triangleArea(2,2,2)\n",
    "    "
   ]
  },
  {
   "cell_type": "code",
   "execution_count": null,
   "metadata": {},
   "outputs": [],
   "source": []
  }
 ],
 "metadata": {
  "kernelspec": {
   "display_name": "Python 3",
   "language": "python",
   "name": "python3"
  },
  "language_info": {
   "codemirror_mode": {
    "name": "ipython",
    "version": 3
   },
   "file_extension": ".py",
   "mimetype": "text/x-python",
   "name": "python",
   "nbconvert_exporter": "python",
   "pygments_lexer": "ipython3",
   "version": "3.8.3"
  }
 },
 "nbformat": 4,
 "nbformat_minor": 4
}
